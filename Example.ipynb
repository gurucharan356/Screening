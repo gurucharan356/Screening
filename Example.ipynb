{
 "cells": [
  {
   "cell_type": "code",
   "execution_count": 5,
   "id": "10faa521",
   "metadata": {},
   "outputs": [],
   "source": [
    "import pandas as pd"
   ]
  },
  {
   "cell_type": "code",
   "execution_count": 6,
   "id": "006cc729",
   "metadata": {},
   "outputs": [
    {
     "name": "stdout",
     "output_type": "stream",
     "text": [
      "Empty DataFrame\n",
      "Columns: [This is a screening assignment]\n",
      "Index: []\n"
     ]
    }
   ],
   "source": [
    "file = open(\"example.txt\",\"r\")\n",
    "Replacement = file.read()\n",
    "Replacement = Replacement.replace(\"placement\",\"screening\")\n",
    "file.close()\n",
    "file = open(\"example.txt\",\"w\")\n",
    "file.write(Replacement)\n",
    "file.close()\n",
    "file = pd.read_table(\"example.txt\")\n",
    "print(file)"
   ]
  },
  {
   "cell_type": "code",
   "execution_count": 11,
   "id": "fbc58e32",
   "metadata": {},
   "outputs": [],
   "source": [
    "def replace_text(filepath,replace_string):\n",
    "    f1 = open(filepath,\"r+\")\n",
    "    text = f1.read()\n",
    "    f1.seek(0)\n",
    "    f1.writelines(text.replace(\"placement\",replace_string))\n",
    "    f1.close()\n",
    "    "
   ]
  },
  {
   "cell_type": "code",
   "execution_count": 12,
   "id": "f772e8b3",
   "metadata": {},
   "outputs": [],
   "source": [
    "replace_text(\"example1.txt\",\"screening\")"
   ]
  },
  {
   "cell_type": "code",
   "execution_count": 13,
   "id": "c5f5bd0f",
   "metadata": {},
   "outputs": [
    {
     "name": "stdout",
     "output_type": "stream",
     "text": [
      "Empty DataFrame\n",
      "Columns: [This is a screening assignment]\n",
      "Index: []\n"
     ]
    }
   ],
   "source": [
    "file1 = pd.read_table(\"example1.txt\")\n",
    "print(file1)"
   ]
  },
  {
   "cell_type": "markdown",
   "id": "d239793c",
   "metadata": {},
   "source": [
    "## Abstract Class"
   ]
  },
  {
   "cell_type": "markdown",
   "id": "95a67375",
   "metadata": {},
   "source": [
    "It is one of the core concept in object oriented programming. It acts as blueprint for other classes. It have only declaration but not definition called Abstract method and the clas which contain this method called Abstract class. We cant create object to it"
   ]
  },
  {
   "cell_type": "code",
   "execution_count": 14,
   "id": "2b5d9902",
   "metadata": {},
   "outputs": [],
   "source": [
    "from abc import ABC,abstractmethod\n",
    "class computer(ABC):\n",
    "    @abstractmethod\n",
    "    def process(self):\n",
    "        pass"
   ]
  },
  {
   "cell_type": "code",
   "execution_count": 15,
   "id": "eaab4dfb",
   "metadata": {},
   "outputs": [],
   "source": [
    "class laptop(computer):\n",
    "    def process(self):\n",
    "        print(\"its running\")"
   ]
  },
  {
   "cell_type": "code",
   "execution_count": 18,
   "id": "30ff0086",
   "metadata": {},
   "outputs": [
    {
     "name": "stdout",
     "output_type": "stream",
     "text": [
      "its running\n"
     ]
    }
   ],
   "source": [
    "comp = laptop()\n",
    "comp.process()"
   ]
  },
  {
   "cell_type": "markdown",
   "id": "b32bcfd8",
   "metadata": {},
   "source": [
    "## Multiple Inheritance"
   ]
  },
  {
   "cell_type": "markdown",
   "id": "80d2c161",
   "metadata": {},
   "source": [
    "Inheritance will follow IS-A relation or parent - child relation. Simply we can say child class will inherit the properties from parent class.Inheriting the properties from one parent to multiple child called multiple inheritance or one class is inhering the properties from two base classes is also called Multiple Inheritance"
   ]
  },
  {
   "cell_type": "code",
   "execution_count": 19,
   "id": "cdfa87e7",
   "metadata": {},
   "outputs": [],
   "source": [
    "class example:\n",
    "    def A(self):\n",
    "        print(\"1st class\")"
   ]
  },
  {
   "cell_type": "code",
   "execution_count": 20,
   "id": "5d6a4e71",
   "metadata": {},
   "outputs": [],
   "source": [
    "class example1(example):\n",
    "    def B(self):\n",
    "        print(\"2nd class\")"
   ]
  },
  {
   "cell_type": "code",
   "execution_count": 27,
   "id": "e6627691",
   "metadata": {},
   "outputs": [],
   "source": [
    "class example2(example):\n",
    "    def C(self):\n",
    "        print(\"3rd class\")"
   ]
  },
  {
   "cell_type": "code",
   "execution_count": 29,
   "id": "1c12ba9f",
   "metadata": {},
   "outputs": [],
   "source": [
    "class multiple(example1,example2):\n",
    "    def D(self):\n",
    "        print(\"Multiple Inheritance\")\n",
    "        example.A(self)\n",
    "        example1.B(self)\n",
    "        example2.C(self)"
   ]
  },
  {
   "cell_type": "code",
   "execution_count": 30,
   "id": "7789a725",
   "metadata": {},
   "outputs": [
    {
     "name": "stdout",
     "output_type": "stream",
     "text": [
      "Multiple Inheritance\n",
      "1st class\n",
      "2nd class\n",
      "3rd class\n"
     ]
    }
   ],
   "source": [
    "output = multiple()\n",
    "output.D()"
   ]
  },
  {
   "cell_type": "markdown",
   "id": "bf91d1e8",
   "metadata": {},
   "source": [
    "## Decorators"
   ]
  },
  {
   "cell_type": "markdown",
   "id": "32e9af0d",
   "metadata": {},
   "source": [
    "Its use to add new functionality to existing object without changing or modifying its structure"
   ]
  },
  {
   "cell_type": "code",
   "execution_count": 40,
   "id": "7457ea4c",
   "metadata": {},
   "outputs": [],
   "source": [
    "def dec(A):\n",
    "    def sub_def():\n",
    "        print(\"Decorators Exmaple\")\n",
    "        A()\n",
    "    return sub_def()"
   ]
  },
  {
   "cell_type": "code",
   "execution_count": 41,
   "id": "52933e03",
   "metadata": {},
   "outputs": [],
   "source": [
    "def other_name():\n",
    "    print(\"Calling\")"
   ]
  },
  {
   "cell_type": "code",
   "execution_count": 42,
   "id": "b949a31d",
   "metadata": {},
   "outputs": [
    {
     "name": "stdout",
     "output_type": "stream",
     "text": [
      "Decorators Exmaple\n",
      "Calling\n"
     ]
    }
   ],
   "source": [
    "dec(other_name)"
   ]
  },
  {
   "cell_type": "code",
   "execution_count": null,
   "id": "29665ea2",
   "metadata": {},
   "outputs": [],
   "source": []
  }
 ],
 "metadata": {
  "kernelspec": {
   "display_name": "Python 3",
   "language": "python",
   "name": "python3"
  },
  "language_info": {
   "codemirror_mode": {
    "name": "ipython",
    "version": 3
   },
   "file_extension": ".py",
   "mimetype": "text/x-python",
   "name": "python",
   "nbconvert_exporter": "python",
   "pygments_lexer": "ipython3",
   "version": "3.8.8"
  }
 },
 "nbformat": 4,
 "nbformat_minor": 5
}
